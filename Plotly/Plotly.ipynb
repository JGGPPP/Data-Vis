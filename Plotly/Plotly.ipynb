{
 "cells": [
  {
   "cell_type": "markdown",
   "id": "309a3934",
   "metadata": {},
   "source": [
    "# Plotly "
   ]
  },
  {
   "cell_type": "markdown",
   "id": "adf45f9c",
   "metadata": {},
   "source": [
    "Data from gapminder"
   ]
  },
  {
   "cell_type": "code",
   "execution_count": null,
   "id": "d05b3844",
   "metadata": {},
   "outputs": [],
   "source": [
    "# https://plotly.com/python/\n",
    "import plotly.express as px\n",
    "\n",
    "# https://plotly.com/python-api-reference/generated/plotly.data.html\n",
    "df_ = px.data.gapminder()\n",
    "df_"
   ]
  },
  {
   "attachments": {},
   "cell_type": "markdown",
   "id": "4957b375",
   "metadata": {},
   "source": [
    "## Plotly Express"
   ]
  },
  {
   "cell_type": "markdown",
   "id": "0936f83e",
   "metadata": {},
   "source": [
    "### Scatter Plots"
   ]
  },
  {
   "cell_type": "code",
   "execution_count": null,
   "id": "7dd17a2a",
   "metadata": {},
   "outputs": [],
   "source": [
    "# https://plotly.com/python/line-and-scatter/#scatter-plots-with-plotly-express\n",
    "# taking specific rows from 2  columns \n",
    "df = df_[(df_.continent=='Europe')&(df_.year==2007)]\n",
    "fig = px.scatter(df, x='gdpPercap', y='lifeExp')\n",
    "fig.show()"
   ]
  },
  {
   "cell_type": "code",
   "execution_count": null,
   "id": "4321813e",
   "metadata": {},
   "outputs": [],
   "source": [
    "# https://plotly.com/python-api-reference/plotly.express.html\n",
    "# add detail to indvidual plots \n",
    "df = df_[(df_.continent=='Europe')&(df_.year==2007)]\n",
    "fig = px.scatter(df, x='gdpPercap', y='lifeExp', size='pop', color='country', hover_data=['iso_alpha'], hover_name='country')\n",
    "fig.show()"
   ]
  },
  {
   "cell_type": "code",
   "execution_count": null,
   "id": "0fabc82f",
   "metadata": {},
   "outputs": [],
   "source": [
    "#same chart but with more years \n",
    "df = df_[(df_.continent=='Europe')].query('year>1990')\n",
    "fig = px.scatter(df, x='gdpPercap', y='lifeExp', color='country', facet_row='year', height=500)\n",
    "fig.show()"
   ]
  },
  {
   "cell_type": "code",
   "execution_count": null,
   "id": "3edf879e",
   "metadata": {},
   "outputs": [],
   "source": []
  },
  {
   "cell_type": "markdown",
   "id": "94a7e7be",
   "metadata": {},
   "source": [
    "### Ready to use Themes"
   ]
  },
  {
   "cell_type": "code",
   "execution_count": null,
   "id": "d5e1aa65",
   "metadata": {},
   "outputs": [],
   "source": [
    "# https://plotly.com/python/templates/"
   ]
  },
  {
   "cell_type": "code",
   "execution_count": null,
   "id": "ff77adc2",
   "metadata": {},
   "outputs": [],
   "source": [
    "df = df_[df_.year>1996]\n",
    "fig = px.scatter(df, x='gdpPercap', y='lifeExp', color='country', facet_row='continent', facet_col='year', height=1000, template='plotly_dark')\n",
    "fig.show()"
   ]
  },
  {
   "cell_type": "code",
   "execution_count": null,
   "id": "2f705ead",
   "metadata": {},
   "outputs": [],
   "source": []
  },
  {
   "cell_type": "markdown",
   "id": "c8c4009d",
   "metadata": {},
   "source": [
    "### Line Chart"
   ]
  },
  {
   "cell_type": "code",
   "execution_count": null,
   "id": "bcbd2db9",
   "metadata": {},
   "outputs": [],
   "source": [
    "# https://plotly.com/python/line-charts/\n",
    "df = df_[df_.continent == 'Oceania']\n",
    "fig = px.line(df, x='year', y='lifeExp', color='country', text='lifeExp', template='seaborn')\n",
    "\n",
    "# https://plotly.com/python/reference/index/\n",
    "fig.update_traces(textposition='bottom left')\n",
    "fig.update_layout(title='Oceania Life')\n",
    "fig.show()"
   ]
  },
  {
   "cell_type": "code",
   "execution_count": null,
   "id": "f15ec39f",
   "metadata": {},
   "outputs": [],
   "source": []
  },
  {
   "cell_type": "markdown",
   "id": "1abc5f8d",
   "metadata": {},
   "source": [
    "### Bar Chart"
   ]
  },
  {
   "cell_type": "code",
   "execution_count": null,
   "id": "baef1e68",
   "metadata": {},
   "outputs": [],
   "source": [
    "df = df_[df_.country=='United Kingdom']\n",
    "fig= px.bar(df, x='year', y='pop')\n",
    "fig.show()"
   ]
  },
  {
   "cell_type": "code",
   "execution_count": null,
   "id": "81efa5bc",
   "metadata": {},
   "outputs": [],
   "source": [
    "df = df_.groupby(['year', 'continent']).sum().reset_index()\n",
    "fig = px.bar(df, x='continent', y='pop', color='continent', template='ggplot2', title='World Pop by Continent', facet_col='year', facet_col_wrap=4)\n",
    "fig.show()"
   ]
  },
  {
   "cell_type": "code",
   "execution_count": null,
   "id": "2926ea04",
   "metadata": {},
   "outputs": [],
   "source": []
  },
  {
   "attachments": {},
   "cell_type": "markdown",
   "id": "be6f9467",
   "metadata": {},
   "source": [
    "## Plotly Graph Objects\n"
   ]
  },
  {
   "cell_type": "code",
   "execution_count": null,
   "id": "7c99e666",
   "metadata": {},
   "outputs": [],
   "source": [
    "# https://plotly.com/python/graph-objects/\n",
    "# https://plotly.com/python-api-reference/generated/plotly.graph_objects.Figure.html\n",
    "import plotly.graph_objects as go"
   ]
  },
  {
   "cell_type": "code",
   "execution_count": null,
   "id": "2281d541",
   "metadata": {},
   "outputs": [],
   "source": [
    "df = df_.groupby(['year', 'continent']).sum().reset_index()"
   ]
  },
  {
   "cell_type": "markdown",
   "id": "bb7a743a",
   "metadata": {},
   "source": [
    "## Adding your own style to your charts"
   ]
  },
  {
   "cell_type": "code",
   "execution_count": null,
   "id": "fc6ae539",
   "metadata": {},
   "outputs": [],
   "source": [
    "fig = go.Figure(\n",
    "    data=[\n",
    "        go.Bar(name='Asia', x=df[df.continent=='Asia'].year, y=df[df.continent=='Asia']['pop']), \n",
    "        go.Bar(name='Europe', x=df[df.continent=='Europe'].year, y=df[df.continent=='Europe']['pop'])\n",
    "    ]\n",
    ")\n",
    "fig.update_layout(barmode='stack')\n",
    "fig.layout.template='seaborn'\n",
    "fig.layout.height=400\n",
    "fig.show()"
   ]
  },
  {
   "cell_type": "code",
   "execution_count": null,
   "id": "5aadb28a",
   "metadata": {},
   "outputs": [],
   "source": [
    "country1 = 'United States'\n",
    "country2 = 'Japan'"
   ]
  },
  {
   "cell_type": "code",
   "execution_count": null,
   "id": "b06bf25e",
   "metadata": {},
   "outputs": [],
   "source": [
    "fig = go.Figure()\n",
    "fig.add_trace(\n",
    "    go.Scatter(\n",
    "        x=df_[df_.country == country1].year,\n",
    "        y=df_[df_.country == country1].lifeExp,\n",
    "        name=country1,\n",
    "        mode = 'lines+text',\n",
    "        textposition='bottom right'\n",
    "    )\n",
    ")\n",
    "fig.add_trace(\n",
    "    go.Scatter(\n",
    "        x=df_[df_.country == country2].year,\n",
    "        y=df_[df_.country == country2].lifeExp,\n",
    "        name=country2,\n",
    "        mode='lines',\n",
    "        line= dict(\n",
    "            color='sienna',\n",
    "            width=5\n",
    "        )\n",
    "    )\n",
    ")\n",
    "fig.show()"
   ]
  },
  {
   "cell_type": "code",
   "execution_count": null,
   "id": "8ac0f02d",
   "metadata": {},
   "outputs": [],
   "source": [
    "fig=go.Figure()\n",
    "fig.add_trace(\n",
    "    go.Scatter(\n",
    "        x=df_[df_.country == country1].year,\n",
    "        y=df_[df_.country == country1].lifeExp,\n",
    "        text=df_[df_.country == country1].lifeExp,\n",
    "        name=country1,\n",
    "        mode = 'lines+text',\n",
    "        textposition='bottom right'\n",
    "    )\n",
    ")\n",
    "fig.add_trace(\n",
    "    go.Scatter(\n",
    "        x=df_[df_.country == country2].year,\n",
    "        y=df_[df_.country == country2].lifeExp,\n",
    "        text=df_[df_.country == country1].lifeExp,\n",
    "        name=country2,\n",
    "        mode='lines+text',\n",
    "        line= dict(\n",
    "            color='sienna',\n",
    "            width=2\n",
    "        )\n",
    "    )\n",
    ")\n",
    "\n",
    "fig.update_layout(margin=dict(l=5, r=5, t=10, b=5), \n",
    "                showlegend=True,\n",
    "                plot_bgcolor='seashell',\n",
    "                xaxis=dict(showticklabels=False, showgrid=False),\n",
    "                yaxis=dict(showticklabels=False,showgrid=False),\n",
    "                )\n",
    "fig.update_traces(textposition='top left', texttemplate='%{text:.3s}')                \n",
    "fig.show()"
   ]
  },
  {
   "cell_type": "code",
   "execution_count": null,
   "id": "9b440703",
   "metadata": {},
   "outputs": [],
   "source": []
  }
 ],
 "metadata": {
  "kernelspec": {
   "display_name": "Python 3.9.12",
   "language": "python",
   "name": "python3"
  },
  "language_info": {
   "codemirror_mode": {
    "name": "ipython",
    "version": 3
   },
   "file_extension": ".py",
   "mimetype": "text/x-python",
   "name": "python",
   "nbconvert_exporter": "python",
   "pygments_lexer": "ipython3",
   "version": "3.9.12 (main, Apr  5 2022, 01:53:17) \n[Clang 12.0.0 ]"
  },
  "vscode": {
   "interpreter": {
    "hash": "c4e4e0db8504a060df795c96eaaf5f2e40d78467421fda8e3c9314686cc061bf"
   }
  }
 },
 "nbformat": 4,
 "nbformat_minor": 5
}
